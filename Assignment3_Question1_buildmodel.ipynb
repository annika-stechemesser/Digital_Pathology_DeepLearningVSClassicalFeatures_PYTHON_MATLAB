{
 "cells": [
  {
   "cell_type": "markdown",
   "metadata": {},
   "source": [
    "#### These notebooks need the Kather2016 images in the same folder to run. The training/validation images weren't submitted due to their size. If you wish to run the code please add the images."
   ]
  },
  {
   "cell_type": "code",
   "execution_count": 1,
   "metadata": {},
   "outputs": [
    {
     "name": "stderr",
     "output_type": "stream",
     "text": [
      "/home/annika/.local/lib/python3.5/site-packages/h5py/__init__.py:36: FutureWarning: Conversion of the second argument of issubdtype from `float` to `np.floating` is deprecated. In future, it will be treated as `np.float64 == np.dtype(float).type`.\n",
      "  from ._conv import register_converters as _register_converters\n",
      "Using TensorFlow backend.\n"
     ]
    },
    {
     "name": "stdout",
     "output_type": "stream",
     "text": [
      "_________________________________________________________________\n",
      "Layer (type)                 Output Shape              Param #   \n",
      "=================================================================\n",
      "input_2 (InputLayer)         (None, 150, 150, 3)       0         \n",
      "_________________________________________________________________\n",
      "block1_conv1 (Conv2D)        (None, 150, 150, 64)      1792      \n",
      "_________________________________________________________________\n",
      "block1_conv2 (Conv2D)        (None, 150, 150, 64)      36928     \n",
      "_________________________________________________________________\n",
      "block1_pool (MaxPooling2D)   (None, 75, 75, 64)        0         \n",
      "_________________________________________________________________\n",
      "block2_conv1 (Conv2D)        (None, 75, 75, 128)       73856     \n",
      "_________________________________________________________________\n",
      "block2_conv2 (Conv2D)        (None, 75, 75, 128)       147584    \n",
      "_________________________________________________________________\n",
      "block2_pool (MaxPooling2D)   (None, 37, 37, 128)       0         \n",
      "_________________________________________________________________\n",
      "block3_conv1 (Conv2D)        (None, 37, 37, 256)       295168    \n",
      "_________________________________________________________________\n",
      "block3_conv2 (Conv2D)        (None, 37, 37, 256)       590080    \n",
      "_________________________________________________________________\n",
      "block3_conv3 (Conv2D)        (None, 37, 37, 256)       590080    \n",
      "_________________________________________________________________\n",
      "block3_pool (MaxPooling2D)   (None, 18, 18, 256)       0         \n",
      "_________________________________________________________________\n",
      "block4_conv1 (Conv2D)        (None, 18, 18, 512)       1180160   \n",
      "_________________________________________________________________\n",
      "block4_conv2 (Conv2D)        (None, 18, 18, 512)       2359808   \n",
      "_________________________________________________________________\n",
      "block4_conv3 (Conv2D)        (None, 18, 18, 512)       2359808   \n",
      "_________________________________________________________________\n",
      "block4_pool (MaxPooling2D)   (None, 9, 9, 512)         0         \n",
      "_________________________________________________________________\n",
      "block5_conv1 (Conv2D)        (None, 9, 9, 512)         2359808   \n",
      "_________________________________________________________________\n",
      "block5_conv2 (Conv2D)        (None, 9, 9, 512)         2359808   \n",
      "_________________________________________________________________\n",
      "block5_conv3 (Conv2D)        (None, 9, 9, 512)         2359808   \n",
      "_________________________________________________________________\n",
      "block5_pool (MaxPooling2D)   (None, 4, 4, 512)         0         \n",
      "_________________________________________________________________\n",
      "flatten_1 (Flatten)          (None, 8192)              0         \n",
      "_________________________________________________________________\n",
      "dense_1 (Dense)              (None, 256)               2097408   \n",
      "_________________________________________________________________\n",
      "dropout_1 (Dropout)          (None, 256)               0         \n",
      "_________________________________________________________________\n",
      "dense_2 (Dense)              (None, 8)                 2056      \n",
      "=================================================================\n",
      "Total params: 16,814,152\n",
      "Trainable params: 16,814,152\n",
      "Non-trainable params: 0\n",
      "_________________________________________________________________\n",
      "None\n"
     ]
    }
   ],
   "source": [
    "import keras\n",
    "from keras.preprocessing.image import ImageDataGenerator\n",
    "from keras import Model\n",
    "from keras.layers import Dropout, Flatten, Dense, Input\n",
    "from keras.applications import VGG16\n",
    "import os\n",
    "\n",
    "h, w = 150, 150   #specify height and width of the images\n",
    "root_dir = '/home/annika/Computational_Biology_Second_Bit/Assignment3/notebooks/Kather_2016_images'  #give directories\n",
    "train_dir = os.path.join(root_dir,'Training')\n",
    "val_dir = os.path.join(root_dir,'Validation')\n",
    "\n",
    "vgg_model = VGG16(weights='imagenet', include_top=False, input_shape=(h,w,3)) #load vgg16, exclude the top\n",
    "\n",
    "my_input = Input(shape=(h,w,3))        \n",
    "temp = vgg_model.layers[1](my_input)\n",
    "for layer in vgg_model.layers[2:]:\n",
    "    temp = layer(temp)\n",
    "temp = Flatten()(temp)                #keep everything up to flatten\n",
    "temp = Dense(256,activation='relu')(temp)  #add Dense layer with relu activation function\n",
    "temp = Dropout(0.5)(temp)                  #add dropout layer\n",
    "my_output = Dense(8,activation='softmax')(temp)  #add softmax layer\n",
    "\n",
    "my_model = Model(my_input,my_output)       #build new model\n",
    "\n",
    "print(my_model.summary())"
   ]
  },
  {
   "cell_type": "code",
   "execution_count": 2,
   "metadata": {},
   "outputs": [],
   "source": [
    "for layer in my_model.layers:              #freeze parameters up to flatten\n",
    "    if 'dense' not in layer.name:\n",
    "        layer.trainable = False\n",
    "    else:\n",
    "        break"
   ]
  },
  {
   "cell_type": "code",
   "execution_count": 3,
   "metadata": {},
   "outputs": [
    {
     "name": "stdout",
     "output_type": "stream",
     "text": [
      "input_2 False\n",
      "block1_conv1 False\n",
      "block1_conv2 False\n",
      "block1_pool False\n",
      "block2_conv1 False\n",
      "block2_conv2 False\n",
      "block2_pool False\n",
      "block3_conv1 False\n",
      "block3_conv2 False\n",
      "block3_conv3 False\n",
      "block3_pool False\n",
      "block4_conv1 False\n",
      "block4_conv2 False\n",
      "block4_conv3 False\n",
      "block4_pool False\n",
      "block5_conv1 False\n",
      "block5_conv2 False\n",
      "block5_conv3 False\n",
      "block5_pool False\n",
      "flatten_1 False\n",
      "dense_1 True\n",
      "dropout_1 True\n",
      "dense_2 True\n"
     ]
    }
   ],
   "source": [
    "for layer in my_model.layers:           # check trainability\n",
    "    x = layer.trainable\n",
    "    print(layer.name, x)"
   ]
  },
  {
   "cell_type": "code",
   "execution_count": 4,
   "metadata": {},
   "outputs": [],
   "source": [
    "my_model.compile(loss='categorical_crossentropy',       #compile the model, loss:crossentropy\n",
    "              optimizer=keras.optimizers.Adam(),\n",
    "              metrics=['accuracy'])"
   ]
  },
  {
   "cell_type": "code",
   "execution_count": 5,
   "metadata": {},
   "outputs": [],
   "source": [
    "datagen = ImageDataGenerator(rescale=1./255)           #define data generator"
   ]
  },
  {
   "cell_type": "code",
   "execution_count": 6,
   "metadata": {},
   "outputs": [
    {
     "name": "stdout",
     "output_type": "stream",
     "text": [
      "Found 4164 images belonging to 8 classes.\n",
      "Found 836 images belonging to 8 classes.\n"
     ]
    }
   ],
   "source": [
    "train_generator = datagen.flow_from_directory(       #generate training and validation data\n",
    "    train_dir,\n",
    "    target_size=(h, w),\n",
    "    batch_size=128)\n",
    "\n",
    "validation_generator = datagen.flow_from_directory(\n",
    "    val_dir,\n",
    "    target_size=(h, w),\n",
    "    batch_size =128)"
   ]
  },
  {
   "cell_type": "code",
   "execution_count": 7,
   "metadata": {},
   "outputs": [
    {
     "name": "stdout",
     "output_type": "stream",
     "text": [
      "{'06_MUCOSA': 5, '07_ADIPOSE': 6, '08_EMPTY': 7, '02_STROMA': 1, '03_COMPLEX': 2, '05_DEBRIS': 4, '01_TUMOR': 0, '04_LYMPHO': 3}\n",
      "{'06_MUCOSA': 5, '07_ADIPOSE': 6, '08_EMPTY': 7, '02_STROMA': 1, '03_COMPLEX': 2, '05_DEBRIS': 4, '01_TUMOR': 0, '04_LYMPHO': 3}\n"
     ]
    }
   ],
   "source": [
    "print(train_generator.class_indices)        #check classes\n",
    "print(validation_generator.class_indices)"
   ]
  },
  {
   "cell_type": "code",
   "execution_count": 8,
   "metadata": {},
   "outputs": [
    {
     "name": "stdout",
     "output_type": "stream",
     "text": [
      "Epoch 1/5\n",
      "33/33 [==============================] - 526s 16s/step - loss: 1.0154 - acc: 0.6520 - val_loss: 0.6102 - val_acc: 0.7955\n",
      "Epoch 2/5\n",
      "33/33 [==============================] - 533s 16s/step - loss: 0.5070 - acc: 0.8236 - val_loss: 0.4269 - val_acc: 0.8624\n",
      "Epoch 3/5\n",
      "33/33 [==============================] - 535s 16s/step - loss: 0.4188 - acc: 0.8555 - val_loss: 0.4546 - val_acc: 0.8553\n",
      "Epoch 4/5\n",
      "33/33 [==============================] - 535s 16s/step - loss: 0.3619 - acc: 0.8751 - val_loss: 0.3588 - val_acc: 0.8828\n",
      "Epoch 5/5\n",
      "33/33 [==============================] - 526s 16s/step - loss: 0.3167 - acc: 0.8894 - val_loss: 0.3705 - val_acc: 0.8684\n"
     ]
    },
    {
     "data": {
      "text/plain": [
       "<keras.callbacks.History at 0x7f99f9259860>"
      ]
     },
     "execution_count": 8,
     "metadata": {},
     "output_type": "execute_result"
    }
   ],
   "source": [
    "# fine-tune the model, use model fit generators (whole data)\n",
    "epochs = 5\n",
    "my_model.fit_generator(\n",
    "    train_generator,\n",
    "    epochs=epochs,\n",
    "    validation_data=validation_generator)"
   ]
  },
  {
   "cell_type": "code",
   "execution_count": 9,
   "metadata": {},
   "outputs": [],
   "source": [
    "my_model.save('vgg_fine_tuned.h5')   #save (import later in Matlab)"
   ]
  },
  {
   "cell_type": "markdown",
   "metadata": {},
   "source": [
    "USE THE MODEL"
   ]
  },
  {
   "cell_type": "code",
   "execution_count": 10,
   "metadata": {},
   "outputs": [],
   "source": [
    "import sklearn\n",
    "from sklearn import metrics\n",
    "import numpy as np\n",
    "import matplotlib.pyplot as plt\n",
    "% matplotlib inline"
   ]
  },
  {
   "cell_type": "code",
   "execution_count": 11,
   "metadata": {},
   "outputs": [
    {
     "name": "stdout",
     "output_type": "stream",
     "text": [
      "Found 836 images belonging to 8 classes.\n"
     ]
    }
   ],
   "source": [
    "prediction_generator = datagen.flow_from_directory(     #define prediction generator\n",
    "    val_dir,\n",
    "    target_size=(h, w),\n",
    "    batch_size =128,\n",
    "    shuffle=False)"
   ]
  },
  {
   "cell_type": "code",
   "execution_count": 12,
   "metadata": {},
   "outputs": [
    {
     "name": "stdout",
     "output_type": "stream",
     "text": [
      "7/7 [==============================] - 88s 13s/step\n"
     ]
    }
   ],
   "source": [
    "predict = my_model.predict_generator(prediction_generator,verbose=1)    #predict validatiton data"
   ]
  },
  {
   "cell_type": "code",
   "execution_count": 13,
   "metadata": {},
   "outputs": [
    {
     "name": "stdout",
     "output_type": "stream",
     "text": [
      "(836,)\n"
     ]
    }
   ],
   "source": [
    "predict = np.argmax(predict, axis = 1)   #transform back from one-hot-encoded\n",
    "print(predict.shape)"
   ]
  },
  {
   "cell_type": "code",
   "execution_count": 14,
   "metadata": {},
   "outputs": [],
   "source": [
    "val_true = prediction_generator.classes    #get the true labels"
   ]
  },
  {
   "cell_type": "code",
   "execution_count": 15,
   "metadata": {},
   "outputs": [
    {
     "name": "stdout",
     "output_type": "stream",
     "text": [
      "(836,)\n"
     ]
    }
   ],
   "source": [
    "print(val_true.shape)  #check the shape matches"
   ]
  },
  {
   "cell_type": "code",
   "execution_count": 16,
   "metadata": {},
   "outputs": [],
   "source": [
    "Confusion = sklearn.metrics.confusion_matrix(val_true, predict, labels=None, sample_weight=None)  #compute confusion matrix"
   ]
  },
  {
   "cell_type": "code",
   "execution_count": 17,
   "metadata": {},
   "outputs": [
    {
     "data": {
      "text/plain": [
       "<matplotlib.text.Text at 0x7f99ebf18f60>"
      ]
     },
     "execution_count": 17,
     "metadata": {},
     "output_type": "execute_result"
    },
    {
     "data": {
      "image/png": "[encoded data removed]",
      "text/plain": [
       "<matplotlib.figure.Figure at 0x7f99ebf4c860>"
      ]
     },
     "metadata": {},
     "output_type": "display_data"
    }
   ],
   "source": [
    "fig, ax = plt.subplots(figsize=(12,12))\n",
    "heatmap = ax.imshow(Confusion)\n",
    "cbar = fig.colorbar(heatmap)\n",
    "\n",
    "\n",
    "labels = [\"Tumor\",\"Stroma\",\"Complex\",\"Lympho\",\"Debris\",\"Mucosa\",\"Adipose\",\"Empty\"]\n",
    "ax.set_xticks(range(8))\n",
    "ax.set_yticks(range(8))\n",
    "ax.set_xticklabels(labels)\n",
    "ax.set_yticklabels(labels)\n",
    "for tick in ax.xaxis.get_major_ticks():\n",
    "                tick.label.set_fontsize(14)\n",
    "for tick in ax.yaxis.get_major_ticks():\n",
    "                tick.label.set_fontsize(14)\n",
    "        \n",
    "plt.title('Confusion matrix without normalisation',fontsize=18)\n",
    "plt.xlabel('True label',fontsize=18)\n",
    "plt.ylabel('Predicted label',fontsize=18)\n"
   ]
  },
  {
   "cell_type": "code",
   "execution_count": null,
   "metadata": {},
   "outputs": [],
   "source": []
  }
 ],
 "metadata": {
  "kernelspec": {
   "display_name": "Python 3",
   "language": "python",
   "name": "python3"
  },
  "language_info": {
   "codemirror_mode": {
    "name": "ipython",
    "version": 3
   },
   "file_extension": ".py",
   "mimetype": "text/x-python",
   "name": "python",
   "nbconvert_exporter": "python",
   "pygments_lexer": "ipython3",
   "version": "3.5.2"
  }
 },
 "nbformat": 4,
 "nbformat_minor": 2
}
